{
 "cells": [
  {
   "cell_type": "code",
   "execution_count": 1,
   "id": "c336b696-b25e-4c2d-b018-15ebd5bb193e",
   "metadata": {},
   "outputs": [],
   "source": [
    "import pandas as pd\n",
    "from tqdm import tqdm\n",
    "import numpy as np\n",
    "from matplotlib import pyplot as plt"
   ]
  },
  {
   "cell_type": "code",
   "execution_count": 2,
   "id": "2cbee5d0-68e6-4d3b-9f78-03257c4cad73",
   "metadata": {},
   "outputs": [],
   "source": [
    "chunk_size=1000000"
   ]
  },
  {
   "cell_type": "code",
   "execution_count": 3,
   "id": "258e7064-8217-430e-880e-a214f459f753",
   "metadata": {},
   "outputs": [],
   "source": [
    "df_processed = pd.DataFrame()"
   ]
  },
  {
   "cell_type": "code",
   "execution_count": 4,
   "id": "887709b2-d9de-46d3-92db-03ba5b06bdd7",
   "metadata": {},
   "outputs": [],
   "source": [
    "common_types = ['Tug','Pilot','Fishing','Tanker','Passenger','Cargo']"
   ]
  },
  {
   "cell_type": "code",
   "execution_count": 5,
   "id": "29728d97-e598-46f4-8e87-aeb822ee0c52",
   "metadata": {},
   "outputs": [
    {
     "name": "stderr",
     "output_type": "stream",
     "text": [
      "100%|██████████████████████████████████████████████████████████████████| 7/7 [06:23<00:00, 54.83s/it]\n"
     ]
    }
   ],
   "source": [
    "for dat in tqdm(['2024-05-01','2024-05-02','2024-05-03','2024-05-04','2024-05-05','2024-05-06','2024-05-07']):\n",
    "    for chunk in pd.read_csv(f'aisdk-{dat}.csv', \n",
    "                             chunksize=chunk_size, \n",
    "                             usecols=['# Timestamp','MMSI','Latitude', 'Longitude','Width','Ship type','Navigational status','SOG']):\n",
    "        mask1 = chunk['Ship type']!='Undefined'\n",
    "        mask2 = chunk['Latitude']>45\n",
    "        mask3 = chunk['Latitude']<75\n",
    "        mask4 = chunk['Longitude']>-5\n",
    "        mask5 = chunk['Longitude']<25\n",
    "        mask5 = chunk['Longitude']<25\n",
    "        mask6 = chunk['Navigational status'].str.contains('Under way')\n",
    "        #mask7 = chunk['Ship type'].isin(common_types)\n",
    "        \n",
    "        df_aux = chunk[mask1&mask2&mask3&mask4&mask5&mask6]\n",
    "    \n",
    "        df_processed = pd.concat([df_processed, df_aux])"
   ]
  },
  {
   "cell_type": "code",
   "execution_count": 6,
   "id": "6dc524e3-69e8-474a-a24c-cff6780d6114",
   "metadata": {},
   "outputs": [
    {
     "data": {
      "text/plain": [
       "(81518572, 8)"
      ]
     },
     "execution_count": 6,
     "metadata": {},
     "output_type": "execute_result"
    }
   ],
   "source": [
    "df_processed.shape"
   ]
  },
  {
   "cell_type": "code",
   "execution_count": 7,
   "id": "56991f9f-722d-4960-8e16-e6c3111a03b3",
   "metadata": {},
   "outputs": [],
   "source": [
    "mask_lon = df_processed.groupby('MMSI').Longitude.max() - df_processed.groupby('MMSI').Longitude.min() > 5\n",
    "mask_lat = df_processed.groupby('MMSI').Latitude.max() - df_processed.groupby('MMSI').Latitude.min() > 3\n",
    "mask_mmsis = (mask_lon | mask_lat).reset_index()\n",
    "MMSI_utils = mask_mmsis[mask_mmsis[0]].MMSI.tolist()\n",
    "df_processed = df_processed[df_processed['MMSI'].isin(MMSI_utils)].sort_values(by=['MMSI','# Timestamp'], ascending=True)\n",
    "df_processed['datetime_trunc'] = pd.to_datetime(df_processed['# Timestamp'], format='%d/%m/%Y %H:%M:%S').dt.floor('T')\n",
    "df_processed = df_processed.drop_duplicates(subset=['MMSI','datetime_trunc'], keep='first')"
   ]
  },
  {
   "cell_type": "code",
   "execution_count": null,
   "id": "7f9f8ae4-621d-4dae-936b-192325c3e95e",
   "metadata": {},
   "outputs": [],
   "source": []
  },
  {
   "cell_type": "code",
   "execution_count": null,
   "id": "e9414615-d5e9-45df-b861-542cc8c8a94f",
   "metadata": {},
   "outputs": [],
   "source": []
  },
  {
   "cell_type": "code",
   "execution_count": null,
   "id": "eac22901-97df-40b5-a47c-4665e2461af6",
   "metadata": {},
   "outputs": [],
   "source": []
  },
  {
   "cell_type": "code",
   "execution_count": 8,
   "id": "b44bc64f-4b12-48b2-a88b-27c1f412154d",
   "metadata": {},
   "outputs": [],
   "source": [
    "df_processed['Node'] = -1"
   ]
  },
  {
   "cell_type": "code",
   "execution_count": 9,
   "id": "4de9c317-5d86-4066-a0e4-833b1c0d917a",
   "metadata": {},
   "outputs": [
    {
     "data": {
      "text/plain": [
       "(2597192, 10)"
      ]
     },
     "execution_count": 9,
     "metadata": {},
     "output_type": "execute_result"
    }
   ],
   "source": [
    "df_processed.shape"
   ]
  },
  {
   "cell_type": "code",
   "execution_count": 10,
   "id": "77f08b58-9c3c-4e20-9d4a-f44b1b2a6592",
   "metadata": {},
   "outputs": [
    {
     "name": "stderr",
     "output_type": "stream",
     "text": [
      "100%|██████████████████████████████████████████████████████████████| 130/130 [01:40<00:00,  1.29it/s]\n"
     ]
    }
   ],
   "source": [
    "y_min = 53\n",
    "y_max = 59\n",
    "\n",
    "x_min = 4\n",
    "x_max = 17\n",
    "\n",
    "dx = 0.1\n",
    "dy = 0.1\n",
    "\n",
    "n_x = int((x_max - x_min)/dx)\n",
    "n_y = int((y_max - y_min)/dy)\n",
    "\n",
    "nd = -1\n",
    "\n",
    "nds = []\n",
    "nxcs = []\n",
    "nycs = []\n",
    "for i in tqdm(range(n_x)):\n",
    "    for j in range(n_y):\n",
    "        nd = nd+1\n",
    "        # Check points in this square\n",
    "        df_processed['Node'] = np.where((df_processed['Longitude']<x_min + dx*(i+1)) \\\n",
    "                              & (df_processed['Longitude']>=x_min + dx*i)\\\n",
    "                              & (df_processed['Latitude']<y_min + dy*(j+1))\\\n",
    "                              & (df_processed['Latitude']>=y_min + dy*j)\n",
    "                              , nd, df_processed['Node'])\n",
    "        nds.append(nd)\n",
    "        nxcs.append(x_min + dx*(i+0.5))\n",
    "        nycs.append(y_min + dy*(j+0.5))\n",
    "        \n",
    "df_nodes = pd.DataFrame(data = {'Node':nds,'nxc':nxcs,'nyc':nycs})"
   ]
  },
  {
   "cell_type": "code",
   "execution_count": null,
   "id": "53a94854-72c7-4155-bfa6-91b88371741c",
   "metadata": {},
   "outputs": [],
   "source": []
  },
  {
   "cell_type": "code",
   "execution_count": 11,
   "id": "c0ef105e-7d9a-4ed6-a760-9639e2e0febe",
   "metadata": {},
   "outputs": [],
   "source": [
    "df_nodes_useful = df_nodes[df_nodes['Node'].isin(df_processed.Node.unique())]"
   ]
  },
  {
   "cell_type": "code",
   "execution_count": 12,
   "id": "c3534234-5659-429d-9f5d-216d18d9864d",
   "metadata": {},
   "outputs": [
    {
     "data": {
      "text/plain": [
       "3189"
      ]
     },
     "execution_count": 12,
     "metadata": {},
     "output_type": "execute_result"
    }
   ],
   "source": [
    "len(df_nodes_useful)"
   ]
  },
  {
   "cell_type": "code",
   "execution_count": 13,
   "id": "325d19f2-a255-4275-9018-2eb8cfac4ed2",
   "metadata": {},
   "outputs": [],
   "source": [
    "df_per_node = df_processed[df_processed['Node'].diff()!=0]"
   ]
  },
  {
   "cell_type": "code",
   "execution_count": null,
   "id": "1cdd35bc-22c2-4fa0-9711-879bcf237b1d",
   "metadata": {},
   "outputs": [],
   "source": []
  },
  {
   "cell_type": "code",
   "execution_count": 14,
   "id": "9019ab34-bf18-4ae5-8e21-92f8bd1ff032",
   "metadata": {},
   "outputs": [
    {
     "name": "stderr",
     "output_type": "stream",
     "text": [
      "/tmp/ipykernel_42923/340381785.py:1: SettingWithCopyWarning: \n",
      "A value is trying to be set on a copy of a slice from a DataFrame.\n",
      "Try using .loc[row_indexer,col_indexer] = value instead\n",
      "\n",
      "See the caveats in the documentation: https://pandas.pydata.org/pandas-docs/stable/user_guide/indexing.html#returning-a-view-versus-a-copy\n",
      "  df_per_node['mh_dist_diff'] =  np.abs(df_per_node['Latitude'].diff() + df_per_node['Longitude'].diff())\n"
     ]
    }
   ],
   "source": [
    "df_per_node['mh_dist_diff'] =  np.abs(df_per_node['Latitude'].diff() + df_per_node['Longitude'].diff())"
   ]
  },
  {
   "cell_type": "code",
   "execution_count": 15,
   "id": "36ad4ee2-76c7-49e4-8a43-f3b0af898202",
   "metadata": {},
   "outputs": [],
   "source": [
    "df_per_node = df_per_node.reset_index(drop=True)"
   ]
  },
  {
   "cell_type": "code",
   "execution_count": 16,
   "id": "57c7afa4-32bf-4049-a1bb-9097cab2ae88",
   "metadata": {},
   "outputs": [],
   "source": [
    "lat1 = np.radians(df_per_node['Latitude'])\n",
    "lon1 = np.radians(df_per_node['Longitude'])\n",
    "lat2 = lat1.shift(1)\n",
    "lon2 = lon1.shift(1)\n",
    "\n",
    "delta_lon = lon2 - lon1\n",
    "x = np.sin(delta_lon) * np.cos(lat1)\n",
    "y = np.cos(lat2) * np.sin(lat1) - (np.sin(lat2) * np.cos(lat1) * np.cos(delta_lon))\n",
    "\n",
    "bearing = np.arctan2(x, y)\n",
    "bearing = np.degrees(bearing)\n",
    "bearing = (bearing + 360) % 360\n",
    "\n",
    "df_per_node['bearing'] = bearing"
   ]
  },
  {
   "cell_type": "code",
   "execution_count": 17,
   "id": "e51c77fa-623c-40b5-b9c6-2dd7a0867195",
   "metadata": {},
   "outputs": [],
   "source": [
    "df_per_node['direction_change'] = np.abs(df_per_node['bearing'].diff())\n",
    "df_per_node['direction_change_2'] = np.abs(df_per_node['bearing'] - df_per_node['bearing'].shift(2))"
   ]
  },
  {
   "cell_type": "code",
   "execution_count": null,
   "id": "50cb1cff-f586-42bd-90cd-d3ef72455ffd",
   "metadata": {},
   "outputs": [],
   "source": []
  },
  {
   "cell_type": "code",
   "execution_count": 18,
   "id": "5b1ce95c-cfa5-4922-81fc-85d8b92f61d9",
   "metadata": {},
   "outputs": [],
   "source": [
    "df_per_node['se'] = np.where((df_per_node['SOG']<1) | (df_per_node['mh_dist_diff']>0.25) | (df_per_node['direction_change']>150) | (df_per_node['direction_change_2']>150), 1, 0)"
   ]
  },
  {
   "cell_type": "code",
   "execution_count": null,
   "id": "341f1615-eaab-4be5-af8b-8fa4d5a7554f",
   "metadata": {},
   "outputs": [],
   "source": []
  },
  {
   "cell_type": "code",
   "execution_count": null,
   "id": "79299228-fa69-4319-9593-0dab3cd16740",
   "metadata": {},
   "outputs": [],
   "source": []
  },
  {
   "cell_type": "code",
   "execution_count": null,
   "id": "b8c4b438-6ae1-4c05-8b80-10244e5f8890",
   "metadata": {},
   "outputs": [],
   "source": []
  },
  {
   "cell_type": "code",
   "execution_count": 19,
   "id": "72b83fd0-aad7-425b-ae09-1dfb2975a04a",
   "metadata": {},
   "outputs": [
    {
     "data": {
      "text/html": [
       "<div>\n",
       "<style scoped>\n",
       "    .dataframe tbody tr th:only-of-type {\n",
       "        vertical-align: middle;\n",
       "    }\n",
       "\n",
       "    .dataframe tbody tr th {\n",
       "        vertical-align: top;\n",
       "    }\n",
       "\n",
       "    .dataframe thead th {\n",
       "        text-align: right;\n",
       "    }\n",
       "</style>\n",
       "<table border=\"1\" class=\"dataframe\">\n",
       "  <thead>\n",
       "    <tr style=\"text-align: right;\">\n",
       "      <th></th>\n",
       "      <th># Timestamp</th>\n",
       "      <th>MMSI</th>\n",
       "      <th>Latitude</th>\n",
       "      <th>Longitude</th>\n",
       "      <th>Navigational status</th>\n",
       "      <th>SOG</th>\n",
       "      <th>Ship type</th>\n",
       "      <th>Width</th>\n",
       "      <th>datetime_trunc</th>\n",
       "      <th>Node</th>\n",
       "      <th>mh_dist_diff</th>\n",
       "      <th>bearing</th>\n",
       "      <th>direction_change</th>\n",
       "      <th>direction_change_2</th>\n",
       "      <th>se</th>\n",
       "    </tr>\n",
       "  </thead>\n",
       "  <tbody>\n",
       "    <tr>\n",
       "      <th>0</th>\n",
       "      <td>05/05/2024 17:19:47</td>\n",
       "      <td>209168000</td>\n",
       "      <td>54.105873</td>\n",
       "      <td>9.329705</td>\n",
       "      <td>Under way using engine</td>\n",
       "      <td>6.7</td>\n",
       "      <td>Tanker</td>\n",
       "      <td>16.0</td>\n",
       "      <td>2024-05-05 17:19:00</td>\n",
       "      <td>3191</td>\n",
       "      <td>NaN</td>\n",
       "      <td>NaN</td>\n",
       "      <td>NaN</td>\n",
       "      <td>NaN</td>\n",
       "      <td>0</td>\n",
       "    </tr>\n",
       "    <tr>\n",
       "      <th>1</th>\n",
       "      <td>05/05/2024 18:01:06</td>\n",
       "      <td>209168000</td>\n",
       "      <td>54.160715</td>\n",
       "      <td>9.401077</td>\n",
       "      <td>Under way using engine</td>\n",
       "      <td>6.7</td>\n",
       "      <td>Tanker</td>\n",
       "      <td>16.0</td>\n",
       "      <td>2024-05-05 18:01:00</td>\n",
       "      <td>3251</td>\n",
       "      <td>0.126214</td>\n",
       "      <td>322.703434</td>\n",
       "      <td>NaN</td>\n",
       "      <td>NaN</td>\n",
       "      <td>0</td>\n",
       "    </tr>\n",
       "    <tr>\n",
       "      <th>2</th>\n",
       "      <td>05/05/2024 18:35:05</td>\n",
       "      <td>209168000</td>\n",
       "      <td>54.185833</td>\n",
       "      <td>9.500327</td>\n",
       "      <td>Under way using engine</td>\n",
       "      <td>6.8</td>\n",
       "      <td>Tanker</td>\n",
       "      <td>16.0</td>\n",
       "      <td>2024-05-05 18:35:00</td>\n",
       "      <td>3311</td>\n",
       "      <td>0.124368</td>\n",
       "      <td>293.422140</td>\n",
       "      <td>29.281294</td>\n",
       "      <td>NaN</td>\n",
       "      <td>0</td>\n",
       "    </tr>\n",
       "    <tr>\n",
       "      <th>3</th>\n",
       "      <td>05/05/2024 18:55:24</td>\n",
       "      <td>209168000</td>\n",
       "      <td>54.200712</td>\n",
       "      <td>9.557530</td>\n",
       "      <td>Under way using engine</td>\n",
       "      <td>7.2</td>\n",
       "      <td>Tanker</td>\n",
       "      <td>16.0</td>\n",
       "      <td>2024-05-05 18:55:00</td>\n",
       "      <td>3312</td>\n",
       "      <td>0.072082</td>\n",
       "      <td>293.992652</td>\n",
       "      <td>0.570512</td>\n",
       "      <td>28.710782</td>\n",
       "      <td>0</td>\n",
       "    </tr>\n",
       "    <tr>\n",
       "      <th>4</th>\n",
       "      <td>05/05/2024 19:15:05</td>\n",
       "      <td>209168000</td>\n",
       "      <td>54.225923</td>\n",
       "      <td>9.601220</td>\n",
       "      <td>Under way using engine</td>\n",
       "      <td>6.6</td>\n",
       "      <td>Tanker</td>\n",
       "      <td>16.0</td>\n",
       "      <td>2024-05-05 19:15:00</td>\n",
       "      <td>3372</td>\n",
       "      <td>0.068901</td>\n",
       "      <td>314.636693</td>\n",
       "      <td>20.644042</td>\n",
       "      <td>21.214554</td>\n",
       "      <td>0</td>\n",
       "    </tr>\n",
       "    <tr>\n",
       "      <th>...</th>\n",
       "      <td>...</td>\n",
       "      <td>...</td>\n",
       "      <td>...</td>\n",
       "      <td>...</td>\n",
       "      <td>...</td>\n",
       "      <td>...</td>\n",
       "      <td>...</td>\n",
       "      <td>...</td>\n",
       "      <td>...</td>\n",
       "      <td>...</td>\n",
       "      <td>...</td>\n",
       "      <td>...</td>\n",
       "      <td>...</td>\n",
       "      <td>...</td>\n",
       "      <td>...</td>\n",
       "    </tr>\n",
       "    <tr>\n",
       "      <th>150943</th>\n",
       "      <td>07/05/2024 21:29:17</td>\n",
       "      <td>664288000</td>\n",
       "      <td>56.315353</td>\n",
       "      <td>7.197848</td>\n",
       "      <td>Under way using engine</td>\n",
       "      <td>13.3</td>\n",
       "      <td>Tanker</td>\n",
       "      <td>28.0</td>\n",
       "      <td>2024-05-07 21:29:00</td>\n",
       "      <td>1893</td>\n",
       "      <td>0.177592</td>\n",
       "      <td>145.008669</td>\n",
       "      <td>3.948546</td>\n",
       "      <td>1.931011</td>\n",
       "      <td>0</td>\n",
       "    </tr>\n",
       "    <tr>\n",
       "      <th>150944</th>\n",
       "      <td>07/05/2024 21:43:26</td>\n",
       "      <td>664288000</td>\n",
       "      <td>56.274205</td>\n",
       "      <td>7.140437</td>\n",
       "      <td>Under way using engine</td>\n",
       "      <td>13.2</td>\n",
       "      <td>Tanker</td>\n",
       "      <td>28.0</td>\n",
       "      <td>2024-05-07 21:43:00</td>\n",
       "      <td>1892</td>\n",
       "      <td>0.098559</td>\n",
       "      <td>142.227562</td>\n",
       "      <td>2.781107</td>\n",
       "      <td>6.729653</td>\n",
       "      <td>0</td>\n",
       "    </tr>\n",
       "    <tr>\n",
       "      <th>150945</th>\n",
       "      <td>07/05/2024 22:15:06</td>\n",
       "      <td>664288000</td>\n",
       "      <td>56.181688</td>\n",
       "      <td>7.013930</td>\n",
       "      <td>Under way using engine</td>\n",
       "      <td>13.2</td>\n",
       "      <td>Tanker</td>\n",
       "      <td>28.0</td>\n",
       "      <td>2024-05-07 22:15:00</td>\n",
       "      <td>1831</td>\n",
       "      <td>0.219024</td>\n",
       "      <td>142.708221</td>\n",
       "      <td>0.480659</td>\n",
       "      <td>2.300449</td>\n",
       "      <td>0</td>\n",
       "    </tr>\n",
       "    <tr>\n",
       "      <th>150946</th>\n",
       "      <td>07/05/2024 22:21:16</td>\n",
       "      <td>664288000</td>\n",
       "      <td>56.163755</td>\n",
       "      <td>6.989540</td>\n",
       "      <td>Under way using engine</td>\n",
       "      <td>13.1</td>\n",
       "      <td>Tanker</td>\n",
       "      <td>28.0</td>\n",
       "      <td>2024-05-07 22:21:00</td>\n",
       "      <td>1771</td>\n",
       "      <td>0.042323</td>\n",
       "      <td>142.859239</td>\n",
       "      <td>0.151018</td>\n",
       "      <td>0.631677</td>\n",
       "      <td>0</td>\n",
       "    </tr>\n",
       "    <tr>\n",
       "      <th>150947</th>\n",
       "      <td>07/05/2024 22:44:07</td>\n",
       "      <td>664288000</td>\n",
       "      <td>56.097345</td>\n",
       "      <td>6.898703</td>\n",
       "      <td>Under way using engine</td>\n",
       "      <td>13.1</td>\n",
       "      <td>Tanker</td>\n",
       "      <td>28.0</td>\n",
       "      <td>2024-05-07 22:44:00</td>\n",
       "      <td>1710</td>\n",
       "      <td>0.157247</td>\n",
       "      <td>142.644367</td>\n",
       "      <td>0.214872</td>\n",
       "      <td>0.063854</td>\n",
       "      <td>0</td>\n",
       "    </tr>\n",
       "  </tbody>\n",
       "</table>\n",
       "<p>150948 rows × 15 columns</p>\n",
       "</div>"
      ],
      "text/plain": [
       "                # Timestamp       MMSI   Latitude  Longitude  \\\n",
       "0       05/05/2024 17:19:47  209168000  54.105873   9.329705   \n",
       "1       05/05/2024 18:01:06  209168000  54.160715   9.401077   \n",
       "2       05/05/2024 18:35:05  209168000  54.185833   9.500327   \n",
       "3       05/05/2024 18:55:24  209168000  54.200712   9.557530   \n",
       "4       05/05/2024 19:15:05  209168000  54.225923   9.601220   \n",
       "...                     ...        ...        ...        ...   \n",
       "150943  07/05/2024 21:29:17  664288000  56.315353   7.197848   \n",
       "150944  07/05/2024 21:43:26  664288000  56.274205   7.140437   \n",
       "150945  07/05/2024 22:15:06  664288000  56.181688   7.013930   \n",
       "150946  07/05/2024 22:21:16  664288000  56.163755   6.989540   \n",
       "150947  07/05/2024 22:44:07  664288000  56.097345   6.898703   \n",
       "\n",
       "           Navigational status   SOG Ship type  Width      datetime_trunc  \\\n",
       "0       Under way using engine   6.7    Tanker   16.0 2024-05-05 17:19:00   \n",
       "1       Under way using engine   6.7    Tanker   16.0 2024-05-05 18:01:00   \n",
       "2       Under way using engine   6.8    Tanker   16.0 2024-05-05 18:35:00   \n",
       "3       Under way using engine   7.2    Tanker   16.0 2024-05-05 18:55:00   \n",
       "4       Under way using engine   6.6    Tanker   16.0 2024-05-05 19:15:00   \n",
       "...                        ...   ...       ...    ...                 ...   \n",
       "150943  Under way using engine  13.3    Tanker   28.0 2024-05-07 21:29:00   \n",
       "150944  Under way using engine  13.2    Tanker   28.0 2024-05-07 21:43:00   \n",
       "150945  Under way using engine  13.2    Tanker   28.0 2024-05-07 22:15:00   \n",
       "150946  Under way using engine  13.1    Tanker   28.0 2024-05-07 22:21:00   \n",
       "150947  Under way using engine  13.1    Tanker   28.0 2024-05-07 22:44:00   \n",
       "\n",
       "        Node  mh_dist_diff     bearing  direction_change  direction_change_2  \\\n",
       "0       3191           NaN         NaN               NaN                 NaN   \n",
       "1       3251      0.126214  322.703434               NaN                 NaN   \n",
       "2       3311      0.124368  293.422140         29.281294                 NaN   \n",
       "3       3312      0.072082  293.992652          0.570512           28.710782   \n",
       "4       3372      0.068901  314.636693         20.644042           21.214554   \n",
       "...      ...           ...         ...               ...                 ...   \n",
       "150943  1893      0.177592  145.008669          3.948546            1.931011   \n",
       "150944  1892      0.098559  142.227562          2.781107            6.729653   \n",
       "150945  1831      0.219024  142.708221          0.480659            2.300449   \n",
       "150946  1771      0.042323  142.859239          0.151018            0.631677   \n",
       "150947  1710      0.157247  142.644367          0.214872            0.063854   \n",
       "\n",
       "        se  \n",
       "0        0  \n",
       "1        0  \n",
       "2        0  \n",
       "3        0  \n",
       "4        0  \n",
       "...     ..  \n",
       "150943   0  \n",
       "150944   0  \n",
       "150945   0  \n",
       "150946   0  \n",
       "150947   0  \n",
       "\n",
       "[150948 rows x 15 columns]"
      ]
     },
     "execution_count": 19,
     "metadata": {},
     "output_type": "execute_result"
    }
   ],
   "source": [
    "df_per_node"
   ]
  },
  {
   "cell_type": "code",
   "execution_count": 21,
   "id": "61bdd79a-2c03-4067-89ba-ac6b0ea63edc",
   "metadata": {},
   "outputs": [],
   "source": [
    "df_per_node = df_per_node[df_per_node['Node']!=-1]"
   ]
  },
  {
   "cell_type": "code",
   "execution_count": null,
   "id": "bc2aabd7-2ecc-4f94-b3c8-c9ab697aadcb",
   "metadata": {},
   "outputs": [],
   "source": []
  },
  {
   "cell_type": "code",
   "execution_count": 22,
   "id": "a1e321b4-6433-4813-a71a-c241b66ef66a",
   "metadata": {},
   "outputs": [],
   "source": [
    "def create_global_path_id(df):\n",
    "    df['global_path_id'] = (df['MMSI'].shift() != df['MMSI']) | (df['se'].shift() != df['se'])\n",
    "    df['global_path_id'] = df['global_path_id'].cumsum() + 1  # Start IDs from 1\n",
    "    return df"
   ]
  },
  {
   "cell_type": "code",
   "execution_count": 23,
   "id": "b1fc9086-672f-436e-8336-cae0e4cfc390",
   "metadata": {},
   "outputs": [
    {
     "name": "stderr",
     "output_type": "stream",
     "text": [
      "/tmp/ipykernel_42923/858120516.py:2: SettingWithCopyWarning: \n",
      "A value is trying to be set on a copy of a slice from a DataFrame.\n",
      "Try using .loc[row_indexer,col_indexer] = value instead\n",
      "\n",
      "See the caveats in the documentation: https://pandas.pydata.org/pandas-docs/stable/user_guide/indexing.html#returning-a-view-versus-a-copy\n",
      "  df['global_path_id'] = (df['MMSI'].shift() != df['MMSI']) | (df['se'].shift() != df['se'])\n",
      "/tmp/ipykernel_42923/858120516.py:3: SettingWithCopyWarning: \n",
      "A value is trying to be set on a copy of a slice from a DataFrame.\n",
      "Try using .loc[row_indexer,col_indexer] = value instead\n",
      "\n",
      "See the caveats in the documentation: https://pandas.pydata.org/pandas-docs/stable/user_guide/indexing.html#returning-a-view-versus-a-copy\n",
      "  df['global_path_id'] = df['global_path_id'].cumsum() + 1  # Start IDs from 1\n"
     ]
    }
   ],
   "source": [
    "df_per_node = create_global_path_id(df_per_node)"
   ]
  },
  {
   "cell_type": "code",
   "execution_count": null,
   "id": "7bbd6864-49b7-4a92-9d44-525b6b6bdd2b",
   "metadata": {},
   "outputs": [],
   "source": []
  },
  {
   "cell_type": "code",
   "execution_count": null,
   "id": "8458649c-1b81-4ebd-a38b-cb3713d0b555",
   "metadata": {},
   "outputs": [],
   "source": []
  },
  {
   "cell_type": "code",
   "execution_count": 24,
   "id": "051fedd4-c8db-4289-b23a-6d93b52f6314",
   "metadata": {},
   "outputs": [],
   "source": [
    "df_per_node = df_per_node[df_per_node.groupby('global_path_id').Node.transform('nunique')>30]"
   ]
  },
  {
   "cell_type": "code",
   "execution_count": 25,
   "id": "d9a33ad7-56fd-4d91-b8df-f29665209268",
   "metadata": {},
   "outputs": [],
   "source": [
    "lat_last = df_per_node.groupby('global_path_id').Latitude.last() \n",
    "lat_first = df_per_node.groupby('global_path_id').Latitude.first() \n",
    "lon_last = df_per_node.groupby('global_path_id').Longitude.last() \n",
    "lon_first = df_per_node.groupby('global_path_id').Longitude.first() \n",
    "paths_dists = (np.sqrt((lat_last - lat_first)**2 + (lon_last - lon_first)**2)).reset_index()\n",
    "\n",
    "ids_longs = paths_dists[paths_dists[0]>4].global_path_id.tolist()"
   ]
  },
  {
   "cell_type": "code",
   "execution_count": 26,
   "id": "58ae1152-110b-4a53-bacf-8d21d1bd2a54",
   "metadata": {},
   "outputs": [],
   "source": [
    "df_per_node = df_per_node[df_per_node['global_path_id'].isin(ids_longs)]"
   ]
  },
  {
   "cell_type": "code",
   "execution_count": 27,
   "id": "cd304c0d-8f9f-4434-9403-a76509ccd3ac",
   "metadata": {},
   "outputs": [],
   "source": [
    "df_per_node = df_per_node.sort_values(by=['global_path_id','datetime_trunc'])"
   ]
  },
  {
   "cell_type": "code",
   "execution_count": 28,
   "id": "562479ae-ed51-4d0b-a891-c8961fc2bc18",
   "metadata": {},
   "outputs": [
    {
     "data": {
      "text/html": [
       "<div>\n",
       "<style scoped>\n",
       "    .dataframe tbody tr th:only-of-type {\n",
       "        vertical-align: middle;\n",
       "    }\n",
       "\n",
       "    .dataframe tbody tr th {\n",
       "        vertical-align: top;\n",
       "    }\n",
       "\n",
       "    .dataframe thead th {\n",
       "        text-align: right;\n",
       "    }\n",
       "</style>\n",
       "<table border=\"1\" class=\"dataframe\">\n",
       "  <thead>\n",
       "    <tr style=\"text-align: right;\">\n",
       "      <th></th>\n",
       "      <th># Timestamp</th>\n",
       "      <th>MMSI</th>\n",
       "      <th>Latitude</th>\n",
       "      <th>Longitude</th>\n",
       "      <th>Navigational status</th>\n",
       "      <th>SOG</th>\n",
       "      <th>Width</th>\n",
       "      <th>datetime_trunc</th>\n",
       "      <th>Node</th>\n",
       "      <th>mh_dist_diff</th>\n",
       "      <th>bearing</th>\n",
       "      <th>direction_change</th>\n",
       "      <th>direction_change_2</th>\n",
       "      <th>se</th>\n",
       "      <th>global_path_id</th>\n",
       "    </tr>\n",
       "    <tr>\n",
       "      <th>Ship type</th>\n",
       "      <th></th>\n",
       "      <th></th>\n",
       "      <th></th>\n",
       "      <th></th>\n",
       "      <th></th>\n",
       "      <th></th>\n",
       "      <th></th>\n",
       "      <th></th>\n",
       "      <th></th>\n",
       "      <th></th>\n",
       "      <th></th>\n",
       "      <th></th>\n",
       "      <th></th>\n",
       "      <th></th>\n",
       "      <th></th>\n",
       "    </tr>\n",
       "  </thead>\n",
       "  <tbody>\n",
       "    <tr>\n",
       "      <th>Cargo</th>\n",
       "      <td>62143</td>\n",
       "      <td>62143</td>\n",
       "      <td>62143</td>\n",
       "      <td>62143</td>\n",
       "      <td>62143</td>\n",
       "      <td>62139</td>\n",
       "      <td>62143</td>\n",
       "      <td>62143</td>\n",
       "      <td>62143</td>\n",
       "      <td>62143</td>\n",
       "      <td>62143</td>\n",
       "      <td>62143</td>\n",
       "      <td>62143</td>\n",
       "      <td>62143</td>\n",
       "      <td>62143</td>\n",
       "    </tr>\n",
       "    <tr>\n",
       "      <th>Dredging</th>\n",
       "      <td>359</td>\n",
       "      <td>359</td>\n",
       "      <td>359</td>\n",
       "      <td>359</td>\n",
       "      <td>359</td>\n",
       "      <td>359</td>\n",
       "      <td>359</td>\n",
       "      <td>359</td>\n",
       "      <td>359</td>\n",
       "      <td>359</td>\n",
       "      <td>359</td>\n",
       "      <td>359</td>\n",
       "      <td>359</td>\n",
       "      <td>359</td>\n",
       "      <td>359</td>\n",
       "    </tr>\n",
       "    <tr>\n",
       "      <th>Fishing</th>\n",
       "      <td>959</td>\n",
       "      <td>959</td>\n",
       "      <td>959</td>\n",
       "      <td>959</td>\n",
       "      <td>959</td>\n",
       "      <td>959</td>\n",
       "      <td>959</td>\n",
       "      <td>959</td>\n",
       "      <td>959</td>\n",
       "      <td>959</td>\n",
       "      <td>959</td>\n",
       "      <td>959</td>\n",
       "      <td>959</td>\n",
       "      <td>959</td>\n",
       "      <td>959</td>\n",
       "    </tr>\n",
       "    <tr>\n",
       "      <th>Law enforcement</th>\n",
       "      <td>133</td>\n",
       "      <td>133</td>\n",
       "      <td>133</td>\n",
       "      <td>133</td>\n",
       "      <td>133</td>\n",
       "      <td>133</td>\n",
       "      <td>133</td>\n",
       "      <td>133</td>\n",
       "      <td>133</td>\n",
       "      <td>133</td>\n",
       "      <td>133</td>\n",
       "      <td>133</td>\n",
       "      <td>133</td>\n",
       "      <td>133</td>\n",
       "      <td>133</td>\n",
       "    </tr>\n",
       "    <tr>\n",
       "      <th>Military</th>\n",
       "      <td>445</td>\n",
       "      <td>445</td>\n",
       "      <td>445</td>\n",
       "      <td>445</td>\n",
       "      <td>445</td>\n",
       "      <td>445</td>\n",
       "      <td>445</td>\n",
       "      <td>445</td>\n",
       "      <td>445</td>\n",
       "      <td>445</td>\n",
       "      <td>445</td>\n",
       "      <td>445</td>\n",
       "      <td>445</td>\n",
       "      <td>445</td>\n",
       "      <td>445</td>\n",
       "    </tr>\n",
       "    <tr>\n",
       "      <th>Other</th>\n",
       "      <td>847</td>\n",
       "      <td>847</td>\n",
       "      <td>847</td>\n",
       "      <td>847</td>\n",
       "      <td>847</td>\n",
       "      <td>847</td>\n",
       "      <td>847</td>\n",
       "      <td>847</td>\n",
       "      <td>847</td>\n",
       "      <td>847</td>\n",
       "      <td>847</td>\n",
       "      <td>847</td>\n",
       "      <td>847</td>\n",
       "      <td>847</td>\n",
       "      <td>847</td>\n",
       "    </tr>\n",
       "    <tr>\n",
       "      <th>Passenger</th>\n",
       "      <td>3665</td>\n",
       "      <td>3665</td>\n",
       "      <td>3665</td>\n",
       "      <td>3665</td>\n",
       "      <td>3665</td>\n",
       "      <td>3665</td>\n",
       "      <td>3665</td>\n",
       "      <td>3665</td>\n",
       "      <td>3665</td>\n",
       "      <td>3665</td>\n",
       "      <td>3665</td>\n",
       "      <td>3665</td>\n",
       "      <td>3665</td>\n",
       "      <td>3665</td>\n",
       "      <td>3665</td>\n",
       "    </tr>\n",
       "    <tr>\n",
       "      <th>Tanker</th>\n",
       "      <td>28191</td>\n",
       "      <td>28191</td>\n",
       "      <td>28191</td>\n",
       "      <td>28191</td>\n",
       "      <td>28191</td>\n",
       "      <td>28057</td>\n",
       "      <td>28069</td>\n",
       "      <td>28191</td>\n",
       "      <td>28191</td>\n",
       "      <td>28191</td>\n",
       "      <td>28191</td>\n",
       "      <td>28191</td>\n",
       "      <td>28191</td>\n",
       "      <td>28191</td>\n",
       "      <td>28191</td>\n",
       "    </tr>\n",
       "    <tr>\n",
       "      <th>Tug</th>\n",
       "      <td>635</td>\n",
       "      <td>635</td>\n",
       "      <td>635</td>\n",
       "      <td>635</td>\n",
       "      <td>635</td>\n",
       "      <td>635</td>\n",
       "      <td>567</td>\n",
       "      <td>635</td>\n",
       "      <td>635</td>\n",
       "      <td>635</td>\n",
       "      <td>635</td>\n",
       "      <td>635</td>\n",
       "      <td>635</td>\n",
       "      <td>635</td>\n",
       "      <td>635</td>\n",
       "    </tr>\n",
       "  </tbody>\n",
       "</table>\n",
       "</div>"
      ],
      "text/plain": [
       "                 # Timestamp   MMSI  Latitude  Longitude  Navigational status  \\\n",
       "Ship type                                                                       \n",
       "Cargo                  62143  62143     62143      62143                62143   \n",
       "Dredging                 359    359       359        359                  359   \n",
       "Fishing                  959    959       959        959                  959   \n",
       "Law enforcement          133    133       133        133                  133   \n",
       "Military                 445    445       445        445                  445   \n",
       "Other                    847    847       847        847                  847   \n",
       "Passenger               3665   3665      3665       3665                 3665   \n",
       "Tanker                 28191  28191     28191      28191                28191   \n",
       "Tug                      635    635       635        635                  635   \n",
       "\n",
       "                   SOG  Width  datetime_trunc   Node  mh_dist_diff  bearing  \\\n",
       "Ship type                                                                     \n",
       "Cargo            62139  62143           62143  62143         62143    62143   \n",
       "Dredging           359    359             359    359           359      359   \n",
       "Fishing            959    959             959    959           959      959   \n",
       "Law enforcement    133    133             133    133           133      133   \n",
       "Military           445    445             445    445           445      445   \n",
       "Other              847    847             847    847           847      847   \n",
       "Passenger         3665   3665            3665   3665          3665     3665   \n",
       "Tanker           28057  28069           28191  28191         28191    28191   \n",
       "Tug                635    567             635    635           635      635   \n",
       "\n",
       "                 direction_change  direction_change_2     se  global_path_id  \n",
       "Ship type                                                                     \n",
       "Cargo                       62143               62143  62143           62143  \n",
       "Dredging                      359                 359    359             359  \n",
       "Fishing                       959                 959    959             959  \n",
       "Law enforcement               133                 133    133             133  \n",
       "Military                      445                 445    445             445  \n",
       "Other                         847                 847    847             847  \n",
       "Passenger                    3665                3665   3665            3665  \n",
       "Tanker                      28191               28191  28191           28191  \n",
       "Tug                           635                 635    635             635  "
      ]
     },
     "execution_count": 28,
     "metadata": {},
     "output_type": "execute_result"
    }
   ],
   "source": [
    "df_per_node.groupby('Ship type').count()"
   ]
  },
  {
   "cell_type": "code",
   "execution_count": 32,
   "id": "33e83665-4eaf-4a51-bc29-407f711d7902",
   "metadata": {},
   "outputs": [
    {
     "data": {
      "text/plain": [
       "(97377, 16)"
      ]
     },
     "execution_count": 32,
     "metadata": {},
     "output_type": "execute_result"
    }
   ],
   "source": [
    "df_per_node.shape"
   ]
  },
  {
   "cell_type": "code",
   "execution_count": 33,
   "id": "9e633300-f3f6-401e-808e-b3a6e4c3210d",
   "metadata": {},
   "outputs": [],
   "source": [
    "# CREATE NODES AND EDGES, SAVE PATHS, SAVE NODES, SAVE EDGES"
   ]
  },
  {
   "cell_type": "code",
   "execution_count": 29,
   "id": "ddd22f4e-3209-4aa1-b6ef-5f343b6432e1",
   "metadata": {},
   "outputs": [
    {
     "data": {
      "text/plain": [
       "1122"
      ]
     },
     "execution_count": 29,
     "metadata": {},
     "output_type": "execute_result"
    }
   ],
   "source": [
    "df_per_node.global_path_id.nunique()"
   ]
  },
  {
   "cell_type": "code",
   "execution_count": 31,
   "id": "b9c9b4a7-7393-4044-bb92-a86e95cc9289",
   "metadata": {},
   "outputs": [
    {
     "name": "stderr",
     "output_type": "stream",
     "text": [
      "/tmp/ipykernel_42923/1425934351.py:5: SettingWithCopyWarning: \n",
      "A value is trying to be set on a copy of a slice from a DataFrame.\n",
      "Try using .loc[row_indexer,col_indexer] = value instead\n",
      "\n",
      "See the caveats in the documentation: https://pandas.pydata.org/pandas-docs/stable/user_guide/indexing.html#returning-a-view-versus-a-copy\n",
      "  nodes_path_example['Node'] = pd.Categorical(nodes_path_example['Node'], categories=path_example, ordered=True)\n"
     ]
    },
    {
     "data": {
      "text/plain": [
       "<matplotlib.collections.PathCollection at 0x7f5a53115670>"
      ]
     },
     "execution_count": 31,
     "metadata": {},
     "output_type": "execute_result"
    },
    {
     "data": {
      "image/png": "[encoded data removed]",
      "text/plain": [
       "<Figure size 1200x1200 with 1 Axes>"
      ]
     },
     "metadata": {
      "needs_background": "light"
     },
     "output_type": "display_data"
    }
   ],
   "source": [
    "id_global_sample = df_per_node.global_path_id.sample().iloc[0]\n",
    "path_example = df_per_node[df_per_node['global_path_id'] == id_global_sample].Node.tolist()\n",
    "nodes_path_example = df_nodes_useful[df_nodes_useful.Node.isin(path_example)]\n",
    "\n",
    "nodes_path_example['Node'] = pd.Categorical(nodes_path_example['Node'], categories=path_example, ordered=True)\n",
    "nodes_path_example = nodes_path_example.sort_values('Node')\n",
    "\n",
    "fig, ax = plt.subplots(figsize=(10,10), dpi=120)\n",
    "ax.scatter(df_nodes['nxc'],df_nodes['nyc'],s=20, c='green', marker='s', alpha=0.2)\n",
    "ax.scatter(df_nodes_useful['nxc'],df_nodes_useful['nyc'],s=10,c='blue', alpha=0.5)\n",
    "#ax.scatter(nodes_path_example['nxc'],nodes_path_example['nyc'],c='red',s=5)\n",
    "\n",
    "for p in range(len(nodes_path_example)-1):\n",
    "    ax.plot(nodes_path_example['nxc'][p:p+2],nodes_path_example['nyc'][p:p+2],c='red')\n",
    "\n",
    "ax.scatter(nodes_path_example.iloc[[0,-1]]['nxc'],nodes_path_example.iloc[[0,-1]]['nyc'],c='black',s=20)"
   ]
  }
 ],
 "metadata": {
  "kernelspec": {
   "display_name": "pao_env",
   "language": "python",
   "name": "pao_env"
  },
  "language_info": {
   "codemirror_mode": {
    "name": "ipython",
    "version": 3
   },
   "file_extension": ".py",
   "mimetype": "text/x-python",
   "name": "python",
   "nbconvert_exporter": "python",
   "pygments_lexer": "ipython3",
   "version": "3.8.10"
  }
 },
 "nbformat": 4,
 "nbformat_minor": 5
}
